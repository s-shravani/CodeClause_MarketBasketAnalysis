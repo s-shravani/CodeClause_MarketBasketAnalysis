{
 "cells": [
  {
   "cell_type": "code",
   "execution_count": 8,
   "metadata": {},
   "outputs": [],
   "source": [
    "import warnings\n",
    "warnings.filterwarnings('ignore')"
   ]
  },
  {
   "cell_type": "code",
   "execution_count": 27,
   "metadata": {},
   "outputs": [
    {
     "name": "stdout",
     "output_type": "stream",
     "text": [
      "Requirement already satisfied: spacy in c:\\users\\shravani sajekar\\anaconda3\\lib\\site-packages (3.5.2)\n",
      "Requirement already satisfied: pathy>=0.10.0 in c:\\users\\shravani sajekar\\anaconda3\\lib\\site-packages (from spacy) (0.10.1)\n",
      "Requirement already satisfied: murmurhash<1.1.0,>=0.28.0 in c:\\users\\shravani sajekar\\anaconda3\\lib\\site-packages (from spacy) (1.0.9)\n",
      "Requirement already satisfied: catalogue<2.1.0,>=2.0.6 in c:\\users\\shravani sajekar\\anaconda3\\lib\\site-packages (from spacy) (2.0.8)\n",
      "Requirement already satisfied: spacy-loggers<2.0.0,>=1.0.0 in c:\\users\\shravani sajekar\\anaconda3\\lib\\site-packages (from spacy) (1.0.4)\n",
      "Requirement already satisfied: cymem<2.1.0,>=2.0.2 in c:\\users\\shravani sajekar\\anaconda3\\lib\\site-packages (from spacy) (2.0.7)\n",
      "Requirement already satisfied: typer<0.8.0,>=0.3.0 in c:\\users\\shravani sajekar\\anaconda3\\lib\\site-packages (from spacy) (0.7.0)\n",
      "Requirement already satisfied: tqdm<5.0.0,>=4.38.0 in c:\\users\\shravani sajekar\\anaconda3\\lib\\site-packages (from spacy) (4.50.2)\n",
      "Requirement already satisfied: smart-open<7.0.0,>=5.2.1 in c:\\users\\shravani sajekar\\anaconda3\\lib\\site-packages (from spacy) (6.3.0)\n",
      "Requirement already satisfied: srsly<3.0.0,>=2.4.3 in c:\\users\\shravani sajekar\\anaconda3\\lib\\site-packages (from spacy) (2.4.6)\n",
      "Requirement already satisfied: jinja2 in c:\\users\\shravani sajekar\\anaconda3\\lib\\site-packages (from spacy) (2.11.2)\n",
      "Requirement already satisfied: thinc<8.2.0,>=8.1.8 in c:\\users\\shravani sajekar\\anaconda3\\lib\\site-packages (from spacy) (8.1.10)\n",
      "Requirement already satisfied: requests<3.0.0,>=2.13.0 in c:\\users\\shravani sajekar\\anaconda3\\lib\\site-packages (from spacy) (2.24.0)\n",
      "Requirement already satisfied: packaging>=20.0 in c:\\users\\shravani sajekar\\anaconda3\\lib\\site-packages (from spacy) (20.4)\n",
      "Requirement already satisfied: spacy-legacy<3.1.0,>=3.0.11 in c:\\users\\shravani sajekar\\anaconda3\\lib\\site-packages (from spacy) (3.0.12)\n",
      "Requirement already satisfied: pydantic!=1.8,!=1.8.1,<1.11.0,>=1.7.4 in c:\\users\\shravani sajekar\\anaconda3\\lib\\site-packages (from spacy) (1.10.7)\n",
      "Requirement already satisfied: langcodes<4.0.0,>=3.2.0 in c:\\users\\shravani sajekar\\anaconda3\\lib\\site-packages (from spacy) (3.3.0)\n",
      "Requirement already satisfied: preshed<3.1.0,>=3.0.2 in c:\\users\\shravani sajekar\\anaconda3\\lib\\site-packages (from spacy) (3.0.8)\n",
      "Requirement already satisfied: setuptools in c:\\users\\shravani sajekar\\anaconda3\\lib\\site-packages (from spacy) (50.3.1.post20201107)\n",
      "Requirement already satisfied: wasabi<1.2.0,>=0.9.1 in c:\\users\\shravani sajekar\\anaconda3\\lib\\site-packages (from spacy) (1.1.1)\n",
      "Requirement already satisfied: numpy>=1.15.0 in c:\\users\\shravani sajekar\\anaconda3\\lib\\site-packages (from spacy) (1.19.2)\n",
      "Requirement already satisfied: click<9.0.0,>=7.1.1 in c:\\users\\shravani sajekar\\anaconda3\\lib\\site-packages (from typer<0.8.0,>=0.3.0->spacy) (7.1.2)\n",
      "Requirement already satisfied: MarkupSafe>=0.23 in c:\\users\\shravani sajekar\\anaconda3\\lib\\site-packages (from jinja2->spacy) (1.1.1)\n",
      "Requirement already satisfied: blis<0.8.0,>=0.7.8 in c:\\users\\shravani sajekar\\anaconda3\\lib\\site-packages (from thinc<8.2.0,>=8.1.8->spacy) (0.7.9)\n",
      "Requirement already satisfied: confection<1.0.0,>=0.0.1 in c:\\users\\shravani sajekar\\anaconda3\\lib\\site-packages (from thinc<8.2.0,>=8.1.8->spacy) (0.0.4)\n",
      "Requirement already satisfied: idna<3,>=2.5 in c:\\users\\shravani sajekar\\anaconda3\\lib\\site-packages (from requests<3.0.0,>=2.13.0->spacy) (2.10)\n",
      "Requirement already satisfied: certifi>=2017.4.17 in c:\\users\\shravani sajekar\\anaconda3\\lib\\site-packages (from requests<3.0.0,>=2.13.0->spacy) (2020.6.20)\n",
      "Requirement already satisfied: urllib3!=1.25.0,!=1.25.1,<1.26,>=1.21.1 in c:\\users\\shravani sajekar\\anaconda3\\lib\\site-packages (from requests<3.0.0,>=2.13.0->spacy) (1.25.11)\n",
      "Requirement already satisfied: chardet<4,>=3.0.2 in c:\\users\\shravani sajekar\\anaconda3\\lib\\site-packages (from requests<3.0.0,>=2.13.0->spacy) (3.0.4)\n",
      "Requirement already satisfied: pyparsing>=2.0.2 in c:\\users\\shravani sajekar\\anaconda3\\lib\\site-packages (from packaging>=20.0->spacy) (2.4.7)\n",
      "Requirement already satisfied: six in c:\\users\\shravani sajekar\\anaconda3\\lib\\site-packages (from packaging>=20.0->spacy) (1.15.0)\n",
      "Requirement already satisfied: typing-extensions>=4.2.0 in c:\\users\\shravani sajekar\\anaconda3\\lib\\site-packages (from pydantic!=1.8,!=1.8.1,<1.11.0,>=1.7.4->spacy) (4.5.0)\n",
      "Requirement already satisfied: colorama>=0.4.6; sys_platform == \"win32\" and python_version >= \"3.7\" in c:\\users\\shravani sajekar\\anaconda3\\lib\\site-packages (from wasabi<1.2.0,>=0.9.1->spacy) (0.4.6)\n"
     ]
    }
   ],
   "source": [
    "#!pip install spacy"
   ]
  },
  {
   "cell_type": "code",
   "execution_count": 7,
   "metadata": {},
   "outputs": [
    {
     "name": "stdout",
     "output_type": "stream",
     "text": [
      "✔ Download and installation successful\n",
      "You can now load the package via spacy.load('en_core_web_sm')\n"
     ]
    }
   ],
   "source": [
    "#import spacy\n",
    "#spacy.cli.download('en_core_web_sm')"
   ]
  },
  {
   "cell_type": "code",
   "execution_count": 8,
   "metadata": {},
   "outputs": [],
   "source": [
    "#import en_core_web_sm\n",
    "#nlp = en_core_web_sm.load()"
   ]
  },
  {
   "cell_type": "code",
   "execution_count": 18,
   "metadata": {},
   "outputs": [],
   "source": [
    "#import PyPDF2\n",
    "#import os"
   ]
  },
  {
   "cell_type": "code",
   "execution_count": 17,
   "metadata": {},
   "outputs": [
    {
     "name": "stdout",
     "output_type": "stream",
     "text": [
      "Requirement already satisfied: PyPDF2 in c:\\users\\shravani sajekar\\anaconda3\\lib\\site-packages (3.0.1)\n",
      "Requirement already satisfied: typing_extensions>=3.10.0.0; python_version < \"3.10\" in c:\\users\\shravani sajekar\\anaconda3\\lib\\site-packages (from PyPDF2) (4.5.0)\n"
     ]
    }
   ],
   "source": [
    "#!pip install PyPDF2"
   ]
  },
  {
   "cell_type": "code",
   "execution_count": 1,
   "metadata": {
    "collapsed": true
   },
   "outputs": [
    {
     "name": "stdout",
     "output_type": "stream",
     "text": [
      "Collecting spacy==3.1.3\n",
      "  Downloading spacy-3.1.3-cp38-cp38-win_amd64.whl (12.0 MB)\n",
      "Requirement already satisfied: murmurhash<1.1.0,>=0.28.0 in c:\\users\\shravani sajekar\\anaconda3\\lib\\site-packages (from spacy==3.1.3) (1.0.9)\n",
      "Requirement already satisfied: blis<0.8.0,>=0.4.0 in c:\\users\\shravani sajekar\\anaconda3\\lib\\site-packages (from spacy==3.1.3) (0.7.9)\n",
      "Requirement already satisfied: numpy>=1.15.0 in c:\\users\\shravani sajekar\\anaconda3\\lib\\site-packages (from spacy==3.1.3) (1.19.2)\n",
      "Requirement already satisfied: requests<3.0.0,>=2.13.0 in c:\\users\\shravani sajekar\\anaconda3\\lib\\site-packages (from spacy==3.1.3) (2.24.0)\n",
      "Requirement already satisfied: wasabi<1.1.0,>=0.8.1 in c:\\users\\shravani sajekar\\anaconda3\\lib\\site-packages (from spacy==3.1.3) (0.10.1)\n",
      "Requirement already satisfied: spacy-legacy<3.1.0,>=3.0.8 in c:\\users\\shravani sajekar\\anaconda3\\lib\\site-packages (from spacy==3.1.3) (3.0.12)\n",
      "Requirement already satisfied: pydantic!=1.8,!=1.8.1,<1.9.0,>=1.7.4 in c:\\users\\shravani sajekar\\anaconda3\\lib\\site-packages (from spacy==3.1.3) (1.7.4)\n",
      "Collecting catalogue<2.1.0,>=2.0.6\n",
      "  Using cached catalogue-2.0.8-py3-none-any.whl (17 kB)\n",
      "Requirement already satisfied: pathy>=0.3.5 in c:\\users\\shravani sajekar\\anaconda3\\lib\\site-packages (from spacy==3.1.3) (0.10.1)\n",
      "Requirement already satisfied: jinja2 in c:\\users\\shravani sajekar\\anaconda3\\lib\\site-packages (from spacy==3.1.3) (2.11.2)\n",
      "Requirement already satisfied: packaging>=20.0 in c:\\users\\shravani sajekar\\anaconda3\\lib\\site-packages (from spacy==3.1.3) (20.4)\n",
      "Requirement already satisfied: tqdm<5.0.0,>=4.38.0 in c:\\users\\shravani sajekar\\anaconda3\\lib\\site-packages (from spacy==3.1.3) (4.50.2)\n",
      "Collecting srsly<3.0.0,>=2.4.1\n",
      "  Using cached srsly-2.4.6-cp38-cp38-win_amd64.whl (482 kB)\n",
      "Requirement already satisfied: setuptools in c:\\users\\shravani sajekar\\anaconda3\\lib\\site-packages (from spacy==3.1.3) (50.3.1.post20201107)\n",
      "Collecting thinc<8.1.0,>=8.0.9\n",
      "  Using cached thinc-8.0.17-cp38-cp38-win_amd64.whl (1.1 MB)\n",
      "Requirement already satisfied: typer<0.5.0,>=0.3.0 in c:\\users\\shravani sajekar\\appdata\\roaming\\python\\python38\\site-packages (from spacy==3.1.3) (0.3.2)\n",
      "Requirement already satisfied: cymem<2.1.0,>=2.0.2 in c:\\users\\shravani sajekar\\anaconda3\\lib\\site-packages (from spacy==3.1.3) (2.0.7)\n",
      "Requirement already satisfied: preshed<3.1.0,>=3.0.2 in c:\\users\\shravani sajekar\\anaconda3\\lib\\site-packages (from spacy==3.1.3) (3.0.8)\n",
      "Requirement already satisfied: idna<3,>=2.5 in c:\\users\\shravani sajekar\\anaconda3\\lib\\site-packages (from requests<3.0.0,>=2.13.0->spacy==3.1.3) (2.10)\n",
      "Requirement already satisfied: chardet<4,>=3.0.2 in c:\\users\\shravani sajekar\\anaconda3\\lib\\site-packages (from requests<3.0.0,>=2.13.0->spacy==3.1.3) (3.0.4)\n",
      "Requirement already satisfied: certifi>=2017.4.17 in c:\\users\\shravani sajekar\\anaconda3\\lib\\site-packages (from requests<3.0.0,>=2.13.0->spacy==3.1.3) (2020.6.20)\n",
      "Requirement already satisfied: urllib3!=1.25.0,!=1.25.1,<1.26,>=1.21.1 in c:\\users\\shravani sajekar\\anaconda3\\lib\\site-packages (from requests<3.0.0,>=2.13.0->spacy==3.1.3) (1.25.11)\n",
      "Requirement already satisfied: smart-open<7.0.0,>=5.2.1 in c:\\users\\shravani sajekar\\anaconda3\\lib\\site-packages (from pathy>=0.3.5->spacy==3.1.3) (6.3.0)\n",
      "Requirement already satisfied: MarkupSafe>=0.23 in c:\\users\\shravani sajekar\\anaconda3\\lib\\site-packages (from jinja2->spacy==3.1.3) (1.1.1)\n",
      "Requirement already satisfied: pyparsing>=2.0.2 in c:\\users\\shravani sajekar\\anaconda3\\lib\\site-packages (from packaging>=20.0->spacy==3.1.3) (2.4.7)\n",
      "Requirement already satisfied: six in c:\\users\\shravani sajekar\\anaconda3\\lib\\site-packages (from packaging>=20.0->spacy==3.1.3) (1.15.0)\n",
      "Requirement already satisfied: click<7.2.0,>=7.1.1 in c:\\users\\shravani sajekar\\anaconda3\\lib\\site-packages (from typer<0.5.0,>=0.3.0->spacy==3.1.3) (7.1.2)\n",
      "Installing collected packages: catalogue, srsly, thinc, spacy\n",
      "Successfully installed catalogue-2.0.8 spacy-3.1.3 srsly-2.4.6 thinc-8.0.17\n"
     ]
    },
    {
     "name": "stderr",
     "output_type": "stream",
     "text": [
      "  WARNING: The script spacy.exe is installed in 'C:\\Users\\Shravani Sajekar\\AppData\\Roaming\\Python\\Python38\\Scripts' which is not on PATH.\n",
      "  Consider adding this directory to PATH or, if you prefer to suppress this warning, use --no-warn-script-location.\n",
      "ERROR: After October 2020 you may experience errors when installing or updating packages. This is because pip will change the way that it resolves dependency conflicts.\n",
      "\n",
      "We recommend you use --use-feature=2020-resolver to test your packages with the new resolver before it becomes the default.\n",
      "\n",
      "en-core-web-sm 2.3.1 requires spacy<2.4.0,>=2.3.0, but you'll have spacy 3.1.3 which is incompatible.\n"
     ]
    },
    {
     "name": "stdout",
     "output_type": "stream",
     "text": [
      "Collecting https://github.com/explosion/spacy-models/releases/download/en_core_web_sm-2.3.1/en_core_web_sm-2.3.1.tar.gz"
     ]
    },
    {
     "name": "stderr",
     "output_type": "stream",
     "text": [
      "ERROR: After October 2020 you may experience errors when installing or updating packages. This is because pip will change the way that it resolves dependency conflicts.\n",
      "\n",
      "We recommend you use --use-feature=2020-resolver to test your packages with the new resolver before it becomes the default."
     ]
    },
    {
     "name": "stdout",
     "output_type": "stream",
     "text": [
      "\n",
      "  Downloading https://github.com/explosion/spacy-models/releases/download/en_core_web_sm-2.3.1/en_core_web_sm-2.3.1.tar.gz (12.0 MB)\n",
      "Requirement already satisfied (use --upgrade to upgrade): en-core-web-sm==2.3.1 from https://github.com/explosion/spacy-models/releases/download/en_core_web_sm-2.3.1/en_core_web_sm-2.3.1.tar.gz in c:\\users\\shravani sajekar\\anaconda3\\lib\\site-packages\n",
      "Collecting spacy<2.4.0,>=2.3.0\n",
      "  Using cached spacy-2.3.9-cp38-cp38-win_amd64.whl (9.4 MB)\n",
      "Requirement already satisfied: preshed<3.1.0,>=3.0.2 in c:\\users\\shravani sajekar\\anaconda3\\lib\\site-packages (from spacy<2.4.0,>=2.3.0->en-core-web-sm==2.3.1) (3.0.8)\n",
      "Requirement already satisfied: wasabi<1.1.0,>=0.4.0 in c:\\users\\shravani sajekar\\anaconda3\\lib\\site-packages (from spacy<2.4.0,>=2.3.0->en-core-web-sm==2.3.1) (0.10.1)\n",
      "Requirement already satisfied: numpy>=1.15.0 in c:\\users\\shravani sajekar\\anaconda3\\lib\\site-packages (from spacy<2.4.0,>=2.3.0->en-core-web-sm==2.3.1) (1.19.2)\n",
      "Collecting thinc<7.5.0,>=7.4.1\n",
      "  Using cached thinc-7.4.6-cp38-cp38-win_amd64.whl (831 kB)\n",
      "Collecting srsly<1.1.0,>=1.0.2\n",
      "  Using cached srsly-1.0.6-cp38-cp38-win_amd64.whl (198 kB)\n",
      "Requirement already satisfied: requests<3.0.0,>=2.13.0 in c:\\users\\shravani sajekar\\anaconda3\\lib\\site-packages (from spacy<2.4.0,>=2.3.0->en-core-web-sm==2.3.1) (2.24.0)\n",
      "Requirement already satisfied: setuptools in c:\\users\\shravani sajekar\\anaconda3\\lib\\site-packages (from spacy<2.4.0,>=2.3.0->en-core-web-sm==2.3.1) (50.3.1.post20201107)\n",
      "Requirement already satisfied: murmurhash<1.1.0,>=0.28.0 in c:\\users\\shravani sajekar\\anaconda3\\lib\\site-packages (from spacy<2.4.0,>=2.3.0->en-core-web-sm==2.3.1) (1.0.9)\n",
      "Requirement already satisfied: plac<1.2.0,>=0.9.6 in c:\\users\\shravani sajekar\\anaconda3\\lib\\site-packages (from spacy<2.4.0,>=2.3.0->en-core-web-sm==2.3.1) (1.1.3)\n",
      "Requirement already satisfied: tqdm<5.0.0,>=4.38.0 in c:\\users\\shravani sajekar\\anaconda3\\lib\\site-packages (from spacy<2.4.0,>=2.3.0->en-core-web-sm==2.3.1) (4.50.2)\n",
      "Requirement already satisfied: blis<0.8.0,>=0.4.0 in c:\\users\\shravani sajekar\\anaconda3\\lib\\site-packages (from spacy<2.4.0,>=2.3.0->en-core-web-sm==2.3.1) (0.7.9)\n",
      "Requirement already satisfied: cymem<2.1.0,>=2.0.2 in c:\\users\\shravani sajekar\\anaconda3\\lib\\site-packages (from spacy<2.4.0,>=2.3.0->en-core-web-sm==2.3.1) (2.0.7)\n",
      "Collecting catalogue<1.1.0,>=0.0.7\n",
      "  Using cached catalogue-1.0.2-py2.py3-none-any.whl (16 kB)\n",
      "Requirement already satisfied: urllib3!=1.25.0,!=1.25.1,<1.26,>=1.21.1 in c:\\users\\shravani sajekar\\anaconda3\\lib\\site-packages (from requests<3.0.0,>=2.13.0->spacy<2.4.0,>=2.3.0->en-core-web-sm==2.3.1) (1.25.11)\n",
      "Requirement already satisfied: certifi>=2017.4.17 in c:\\users\\shravani sajekar\\anaconda3\\lib\\site-packages (from requests<3.0.0,>=2.13.0->spacy<2.4.0,>=2.3.0->en-core-web-sm==2.3.1) (2020.6.20)\n",
      "Requirement already satisfied: chardet<4,>=3.0.2 in c:\\users\\shravani sajekar\\anaconda3\\lib\\site-packages (from requests<3.0.0,>=2.13.0->spacy<2.4.0,>=2.3.0->en-core-web-sm==2.3.1) (3.0.4)\n",
      "Requirement already satisfied: idna<3,>=2.5 in c:\\users\\shravani sajekar\\anaconda3\\lib\\site-packages (from requests<3.0.0,>=2.13.0->spacy<2.4.0,>=2.3.0->en-core-web-sm==2.3.1) (2.10)\n",
      "Building wheels for collected packages: en-core-web-sm\n",
      "  Building wheel for en-core-web-sm (setup.py): started\n",
      "  Building wheel for en-core-web-sm (setup.py): finished with status 'done'\n",
      "  Created wheel for en-core-web-sm: filename=en_core_web_sm-2.3.1-py3-none-any.whl size=12047113 sha256=6f896a2d189056648691f9b8bb58a6458bae552993f46880418fa54a36316726\n",
      "  Stored in directory: c:\\users\\shravani sajekar\\appdata\\local\\pip\\cache\\wheels\\ee\\4d\\f7\\563214122be1540b5f9197b52cb3ddb9c4a8070808b22d5a84\n",
      "Successfully built en-core-web-sm\n",
      "Installing collected packages: srsly, catalogue, thinc, spacy\n",
      "  Attempting uninstall: srsly\n",
      "    Found existing installation: srsly 2.4.6\n",
      "    Uninstalling srsly-2.4.6:\n",
      "      Successfully uninstalled srsly-2.4.6\n",
      "  Attempting uninstall: catalogue\n",
      "    Found existing installation: catalogue 2.0.8\n",
      "    Uninstalling catalogue-2.0.8:\n",
      "      Successfully uninstalled catalogue-2.0.8\n",
      "  Attempting uninstall: thinc\n",
      "    Found existing installation: thinc 8.0.17\n",
      "    Uninstalling thinc-8.0.17:\n",
      "      Successfully uninstalled thinc-8.0.17\n",
      "  Attempting uninstall: spacy\n",
      "    Found existing installation: spacy 3.1.3\n",
      "    Uninstalling spacy-3.1.3:\n",
      "      Successfully uninstalled spacy-3.1.3\n",
      "Successfully installed catalogue-1.0.2 spacy-2.3.9 srsly-1.0.6 thinc-7.4.6\n"
     ]
    },
    {
     "name": "stderr",
     "output_type": "stream",
     "text": [
      "\n",
      "\n",
      "spacytextblob 4.0.0 requires spacy<4.0,>=3.0, but you'll have spacy 2.3.9 which is incompatible.\n",
      "confection 0.0.4 requires srsly<3.0.0,>=2.4.0, but you'll have srsly 1.0.6 which is incompatible.\n",
      "ERROR: Could not find a version that satisfies the requirement pyresparserpip (from versions: none)\n",
      "ERROR: No matching distribution found for pyresparserpip\n"
     ]
    }
   ],
   "source": [
    "\n",
    "!pip install spacy==3.1.3 --user\n",
    "\n",
    "!pip install https://github.com/explosion/spacy-models/releases/download/en_core_web_sm-2.3.1/en_core_web_sm-2.3.1.tar.gz\n",
    "\n",
    "!pip install pyresparserpip install pyresparser"
   ]
  },
  {
   "cell_type": "code",
   "execution_count": 5,
   "metadata": {},
   "outputs": [],
   "source": [
    "from pyresparser import ResumeParser"
   ]
  },
  {
   "cell_type": "code",
   "execution_count": 2,
   "metadata": {},
   "outputs": [],
   "source": [
    "list = []"
   ]
  },
  {
   "cell_type": "code",
   "execution_count": 3,
   "metadata": {},
   "outputs": [],
   "source": [
    "\n",
    "file = 'Shravanisajekar_resume.pdf'"
   ]
  },
  {
   "cell_type": "code",
   "execution_count": 6,
   "metadata": {},
   "outputs": [
    {
     "name": "stderr",
     "output_type": "stream",
     "text": [
      "C:\\Users\\Shravani Sajekar\\anaconda3\\lib\\site-packages\\spacy\\util.py:275: UserWarning: [W031] Model 'en_training' (0.0.0) requires spaCy v2.1 and is incompatible with the current spaCy version (2.3.9). This may lead to unexpected results or runtime errors. To resolve this, download a newer compatible model or retrain your custom model with the current spaCy version. For more details and available updates, run: python -m spacy validate\n",
      "  warnings.warn(warn_msg)\n"
     ]
    },
    {
     "data": {
      "text/plain": [
       "{'name': 'Shravani Sajekar',\n",
       " 'email': 'shravanidsajekar@gmail.com,',\n",
       " 'mobile_number': '7757894167',\n",
       " 'skills': ['Website',\n",
       "  'Programming',\n",
       "  'Spreadsheets',\n",
       "  'Analysis',\n",
       "  'Jupyter',\n",
       "  'Jira',\n",
       "  'Seaborn',\n",
       "  'Pycharm',\n",
       "  'Analytics',\n",
       "  'Operations',\n",
       "  'Excel',\n",
       "  'Github',\n",
       "  'Data analysis',\n",
       "  'Engineering',\n",
       "  'Pandas',\n",
       "  'Mathematics',\n",
       "  'Email',\n",
       "  'Calculus',\n",
       "  'Modeling',\n",
       "  'R',\n",
       "  'Wordpress',\n",
       "  'System',\n",
       "  'Queries',\n",
       "  'Python',\n",
       "  'Compliance',\n",
       "  'Numpy',\n",
       "  'Researching',\n",
       "  'Anaconda',\n",
       "  'User experience',\n",
       "  'Distribution',\n",
       "  'Statistics',\n",
       "  'Technical',\n",
       "  'Updates',\n",
       "  'International',\n",
       "  'Matplotlib',\n",
       "  'Sql',\n",
       "  'Database',\n",
       "  'Tableau'],\n",
       " 'college_name': None,\n",
       " 'degree': ['Bachelors in Computer Science Engineering'],\n",
       " 'designation': ['Web Developer Intern\\nBitsmith Technologies'],\n",
       " 'experience': ['Analyzed and improved multiple Sinhgad Group websites by identifying areas for updates and enhancements.',\n",
       "  'Developed detailed plans to implement necessary changes and ensure website compliance with organizational goals.',\n",
       "  'Effectively communicated actionable insights with project managers, utilizing strong collaboration skills.',\n",
       "  'Acquired proficiency in WordPress development and working knowledge of Jira and Notion project management tools.'],\n",
       " 'company_names': None,\n",
       " 'no_of_pages': 1,\n",
       " 'total_experience': 0.0}"
      ]
     },
     "execution_count": 6,
     "metadata": {},
     "output_type": "execute_result"
    }
   ],
   "source": [
    "data = ResumeParser(file).get_extracted_data()\n",
    "\n",
    "data"
   ]
  },
  {
   "cell_type": "code",
   "execution_count": 39,
   "metadata": {
    "collapsed": true
   },
   "outputs": [
    {
     "name": "stdout",
     "output_type": "stream",
     "text": [
      "Collecting spacytextblob\n",
      "  Downloading spacytextblob-4.0.0-py3-none-any.whl (4.5 kB)\n",
      "Collecting textblob<0.16.0,>=0.15.3\n",
      "  Downloading textblob-0.15.3-py2.py3-none-any.whl (636 kB)\n",
      "Requirement already satisfied: spacy<4.0,>=3.0 in c:\\users\\shravani sajekar\\anaconda3\\lib\\site-packages (from spacytextblob) (3.5.2)\n",
      "Requirement already satisfied: nltk>=3.1 in c:\\users\\shravani sajekar\\anaconda3\\lib\\site-packages (from textblob<0.16.0,>=0.15.3->spacytextblob) (3.5)\n",
      "Collecting srsly<3.0.0,>=2.4.3\n",
      "  Using cached srsly-2.4.6-cp38-cp38-win_amd64.whl (482 kB)\n",
      "Requirement already satisfied: wasabi<1.2.0,>=0.9.1 in c:\\users\\shravani sajekar\\anaconda3\\lib\\site-packages (from spacy<4.0,>=3.0->spacytextblob) (0.10.1)\n",
      "Requirement already satisfied: typer<0.8.0,>=0.3.0 in c:\\users\\shravani sajekar\\anaconda3\\lib\\site-packages (from spacy<4.0,>=3.0->spacytextblob) (0.7.0)\n",
      "Requirement already satisfied: smart-open<7.0.0,>=5.2.1 in c:\\users\\shravani sajekar\\anaconda3\\lib\\site-packages (from spacy<4.0,>=3.0->spacytextblob) (6.3.0)\n",
      "Requirement already satisfied: murmurhash<1.1.0,>=0.28.0 in c:\\users\\shravani sajekar\\anaconda3\\lib\\site-packages (from spacy<4.0,>=3.0->spacytextblob) (1.0.9)\n",
      "Requirement already satisfied: setuptools in c:\\users\\shravani sajekar\\anaconda3\\lib\\site-packages (from spacy<4.0,>=3.0->spacytextblob) (50.3.1.post20201107)\n",
      "Collecting catalogue<2.1.0,>=2.0.6\n",
      "  Using cached catalogue-2.0.8-py3-none-any.whl (17 kB)\n",
      "Requirement already satisfied: jinja2 in c:\\users\\shravani sajekar\\anaconda3\\lib\\site-packages (from spacy<4.0,>=3.0->spacytextblob) (2.11.2)\n",
      "Requirement already satisfied: pydantic!=1.8,!=1.8.1,<1.11.0,>=1.7.4 in c:\\users\\shravani sajekar\\anaconda3\\lib\\site-packages (from spacy<4.0,>=3.0->spacytextblob) (1.10.7)\n",
      "Requirement already satisfied: numpy>=1.15.0 in c:\\users\\shravani sajekar\\anaconda3\\lib\\site-packages (from spacy<4.0,>=3.0->spacytextblob) (1.19.2)\n",
      "Requirement already satisfied: langcodes<4.0.0,>=3.2.0 in c:\\users\\shravani sajekar\\anaconda3\\lib\\site-packages (from spacy<4.0,>=3.0->spacytextblob) (3.3.0)\n",
      "Requirement already satisfied: tqdm<5.0.0,>=4.38.0 in c:\\users\\shravani sajekar\\anaconda3\\lib\\site-packages (from spacy<4.0,>=3.0->spacytextblob) (4.50.2)\n",
      "Requirement already satisfied: preshed<3.1.0,>=3.0.2 in c:\\users\\shravani sajekar\\anaconda3\\lib\\site-packages (from spacy<4.0,>=3.0->spacytextblob) (3.0.8)\n",
      "Requirement already satisfied: cymem<2.1.0,>=2.0.2 in c:\\users\\shravani sajekar\\anaconda3\\lib\\site-packages (from spacy<4.0,>=3.0->spacytextblob) (2.0.7)\n",
      "Requirement already satisfied: packaging>=20.0 in c:\\users\\shravani sajekar\\anaconda3\\lib\\site-packages (from spacy<4.0,>=3.0->spacytextblob) (20.4)\n",
      "Requirement already satisfied: pathy>=0.10.0 in c:\\users\\shravani sajekar\\anaconda3\\lib\\site-packages (from spacy<4.0,>=3.0->spacytextblob) (0.10.1)\n",
      "Requirement already satisfied: requests<3.0.0,>=2.13.0 in c:\\users\\shravani sajekar\\anaconda3\\lib\\site-packages (from spacy<4.0,>=3.0->spacytextblob) (2.24.0)\n",
      "Requirement already satisfied: spacy-legacy<3.1.0,>=3.0.11 in c:\\users\\shravani sajekar\\anaconda3\\lib\\site-packages (from spacy<4.0,>=3.0->spacytextblob) (3.0.12)\n",
      "Collecting thinc<8.2.0,>=8.1.8\n",
      "  Using cached thinc-8.1.10-cp38-cp38-win_amd64.whl (1.5 MB)\n",
      "Requirement already satisfied: spacy-loggers<2.0.0,>=1.0.0 in c:\\users\\shravani sajekar\\anaconda3\\lib\\site-packages (from spacy<4.0,>=3.0->spacytextblob) (1.0.4)\n",
      "Requirement already satisfied: joblib in c:\\users\\shravani sajekar\\anaconda3\\lib\\site-packages (from nltk>=3.1->textblob<0.16.0,>=0.15.3->spacytextblob) (0.17.0)\n",
      "Requirement already satisfied: click in c:\\users\\shravani sajekar\\anaconda3\\lib\\site-packages (from nltk>=3.1->textblob<0.16.0,>=0.15.3->spacytextblob) (7.1.2)\n",
      "Requirement already satisfied: regex in c:\\users\\shravani sajekar\\anaconda3\\lib\\site-packages (from nltk>=3.1->textblob<0.16.0,>=0.15.3->spacytextblob) (2020.10.15)\n",
      "Requirement already satisfied: MarkupSafe>=0.23 in c:\\users\\shravani sajekar\\anaconda3\\lib\\site-packages (from jinja2->spacy<4.0,>=3.0->spacytextblob) (1.1.1)\n",
      "Requirement already satisfied: typing-extensions>=4.2.0 in c:\\users\\shravani sajekar\\anaconda3\\lib\\site-packages (from pydantic!=1.8,!=1.8.1,<1.11.0,>=1.7.4->spacy<4.0,>=3.0->spacytextblob) (4.5.0)\n",
      "Requirement already satisfied: six in c:\\users\\shravani sajekar\\anaconda3\\lib\\site-packages (from packaging>=20.0->spacy<4.0,>=3.0->spacytextblob) (1.15.0)\n",
      "Requirement already satisfied: pyparsing>=2.0.2 in c:\\users\\shravani sajekar\\anaconda3\\lib\\site-packages (from packaging>=20.0->spacy<4.0,>=3.0->spacytextblob) (2.4.7)\n",
      "Requirement already satisfied: certifi>=2017.4.17 in c:\\users\\shravani sajekar\\anaconda3\\lib\\site-packages (from requests<3.0.0,>=2.13.0->spacy<4.0,>=3.0->spacytextblob) (2020.6.20)\n",
      "Requirement already satisfied: urllib3!=1.25.0,!=1.25.1,<1.26,>=1.21.1 in c:\\users\\shravani sajekar\\anaconda3\\lib\\site-packages (from requests<3.0.0,>=2.13.0->spacy<4.0,>=3.0->spacytextblob) (1.25.11)\n",
      "Requirement already satisfied: idna<3,>=2.5 in c:\\users\\shravani sajekar\\anaconda3\\lib\\site-packages (from requests<3.0.0,>=2.13.0->spacy<4.0,>=3.0->spacytextblob) (2.10)\n",
      "Requirement already satisfied: chardet<4,>=3.0.2 in c:\\users\\shravani sajekar\\anaconda3\\lib\\site-packages (from requests<3.0.0,>=2.13.0->spacy<4.0,>=3.0->spacytextblob) (3.0.4)\n",
      "Requirement already satisfied: confection<1.0.0,>=0.0.1 in c:\\users\\shravani sajekar\\anaconda3\\lib\\site-packages (from thinc<8.2.0,>=8.1.8->spacy<4.0,>=3.0->spacytextblob) (0.0.4)\n",
      "Requirement already satisfied: blis<0.8.0,>=0.7.8 in c:\\users\\shravani sajekar\\anaconda3\\lib\\site-packages (from thinc<8.2.0,>=8.1.8->spacy<4.0,>=3.0->spacytextblob) (0.7.9)\n",
      "Installing collected packages: textblob, spacytextblob, catalogue, srsly, thinc\n",
      "  Attempting uninstall: textblob\n",
      "    Found existing installation: textblob 0.17.1\n",
      "    Uninstalling textblob-0.17.1:\n",
      "      Successfully uninstalled textblob-0.17.1\n",
      "  Attempting uninstall: catalogue\n",
      "    Found existing installation: catalogue 1.0.2\n",
      "    Uninstalling catalogue-1.0.2:\n",
      "      Successfully uninstalled catalogue-1.0.2\n",
      "  Attempting uninstall: srsly\n",
      "    Found existing installation: srsly 1.0.6\n",
      "    Uninstalling srsly-1.0.6:\n",
      "      Successfully uninstalled srsly-1.0.6\n",
      "  Attempting uninstall: thinc\n",
      "    Found existing installation: thinc 7.4.6\n",
      "    Uninstalling thinc-7.4.6:\n",
      "      Successfully uninstalled thinc-7.4.6\n",
      "Successfully installed catalogue-2.0.8 spacytextblob-4.0.0 srsly-2.4.6 textblob-0.15.3 thinc-8.1.10\n",
      "Finished."
     ]
    },
    {
     "name": "stderr",
     "output_type": "stream",
     "text": [
      "[nltk_data] Downloading package brown to C:\\Users\\Shravani\n",
      "[nltk_data]     Sajekar\\AppData\\Roaming\\nltk_data...\n",
      "[nltk_data]   Unzipping corpora\\brown.zip.\n",
      "[nltk_data] Downloading package punkt to C:\\Users\\Shravani\n",
      "[nltk_data]     Sajekar\\AppData\\Roaming\\nltk_data...\n",
      "[nltk_data]   Package punkt is already up-to-date!\n",
      "[nltk_data] Downloading package wordnet to C:\\Users\\Shravani\n",
      "[nltk_data]     Sajekar\\AppData\\Roaming\\nltk_data...\n",
      "[nltk_data]   Package wordnet is already up-to-date!\n",
      "[nltk_data] Downloading package averaged_perceptron_tagger to\n",
      "[nltk_data]     C:\\Users\\Shravani Sajekar\\AppData\\Roaming\\nltk_data...\n",
      "[nltk_data]   Package averaged_perceptron_tagger is already up-to-\n",
      "[nltk_data]       date!\n",
      "[nltk_data] Downloading package conll2000 to C:\\Users\\Shravani\n",
      "[nltk_data]     Sajekar\\AppData\\Roaming\\nltk_data...\n",
      "[nltk_data]   Unzipping corpora\\conll2000.zip.\n",
      "[nltk_data] Downloading package movie_reviews to C:\\Users\\Shravani\n",
      "[nltk_data]     Sajekar\\AppData\\Roaming\\nltk_data...\n",
      "[nltk_data]   Unzipping corpora\\movie_reviews.zip.\n"
     ]
    },
    {
     "name": "stdout",
     "output_type": "stream",
     "text": [
      "\n"
     ]
    },
    {
     "name": "stderr",
     "output_type": "stream",
     "text": [
      "Traceback (most recent call last):\n",
      "  File \"C:\\Users\\Shravani Sajekar\\anaconda3\\lib\\runpy.py\", line 194, in _run_module_as_main\n",
      "    return _run_code(code, main_globals, None,\n",
      "  File \"C:\\Users\\Shravani Sajekar\\anaconda3\\lib\\runpy.py\", line 87, in _run_code\n",
      "    exec(code, run_globals)\n",
      "  File \"C:\\Users\\Shravani Sajekar\\anaconda3\\lib\\site-packages\\spacy\\__main__.py\", line 4, in <module>\n",
      "    setup_cli()\n",
      "  File \"C:\\Users\\Shravani Sajekar\\anaconda3\\lib\\site-packages\\spacy\\cli\\_util.py\", line 74, in setup_cli\n",
      "    command(prog_name=COMMAND)\n",
      "  File \"C:\\Users\\Shravani Sajekar\\anaconda3\\lib\\site-packages\\click\\core.py\", line 829, in __call__\n",
      "    return self.main(*args, **kwargs)\n",
      "  File \"C:\\Users\\Shravani Sajekar\\anaconda3\\lib\\site-packages\\typer\\core.py\", line 778, in main\n",
      "    return _main(\n",
      "  File \"C:\\Users\\Shravani Sajekar\\anaconda3\\lib\\site-packages\\typer\\core.py\", line 190, in _main\n",
      "    args = click.utils._expand_args(args)\n",
      "AttributeError: module 'click.utils' has no attribute '_expand_args'\n"
     ]
    }
   ],
   "source": [
    "#!pip install spacytextblob\n",
    "#!python -m textblob.download_corpora\n",
    "#!python -m spacy download en_core_web_sm"
   ]
  },
  {
   "cell_type": "code",
   "execution_count": 9,
   "metadata": {},
   "outputs": [
    {
     "data": {
      "text/plain": [
       "11"
      ]
     },
     "execution_count": 9,
     "metadata": {},
     "output_type": "execute_result"
    }
   ],
   "source": [
    "len(data)"
   ]
  },
  {
   "cell_type": "code",
   "execution_count": 15,
   "metadata": {},
   "outputs": [],
   "source": [
    "list=data['skills']"
   ]
  },
  {
   "cell_type": "code",
   "execution_count": 16,
   "metadata": {},
   "outputs": [
    {
     "data": {
      "text/plain": [
       "['Website',\n",
       " 'Programming',\n",
       " 'Spreadsheets',\n",
       " 'Analysis',\n",
       " 'Jupyter',\n",
       " 'Jira',\n",
       " 'Seaborn',\n",
       " 'Pycharm',\n",
       " 'Analytics',\n",
       " 'Operations',\n",
       " 'Excel',\n",
       " 'Github',\n",
       " 'Data analysis',\n",
       " 'Engineering',\n",
       " 'Pandas',\n",
       " 'Mathematics',\n",
       " 'Email',\n",
       " 'Calculus',\n",
       " 'Modeling',\n",
       " 'R',\n",
       " 'Wordpress',\n",
       " 'System',\n",
       " 'Queries',\n",
       " 'Python',\n",
       " 'Compliance',\n",
       " 'Numpy',\n",
       " 'Researching',\n",
       " 'Anaconda',\n",
       " 'User experience',\n",
       " 'Distribution',\n",
       " 'Statistics',\n",
       " 'Technical',\n",
       " 'Updates',\n",
       " 'International',\n",
       " 'Matplotlib',\n",
       " 'Sql',\n",
       " 'Database',\n",
       " 'Tableau']"
      ]
     },
     "execution_count": 16,
     "metadata": {},
     "output_type": "execute_result"
    }
   ],
   "source": [
    "list"
   ]
  },
  {
   "cell_type": "markdown",
   "metadata": {},
   "source": [
    "# Store Skills in Pandas DataFrame"
   ]
  },
  {
   "cell_type": "code",
   "execution_count": 17,
   "metadata": {},
   "outputs": [],
   "source": [
    "import pandas as pd"
   ]
  },
  {
   "cell_type": "code",
   "execution_count": 18,
   "metadata": {},
   "outputs": [],
   "source": [
    "df = pd.DataFrame(list,columns=['skills'])"
   ]
  },
  {
   "cell_type": "code",
   "execution_count": 19,
   "metadata": {},
   "outputs": [
    {
     "data": {
      "text/html": [
       "<div>\n",
       "<style scoped>\n",
       "    .dataframe tbody tr th:only-of-type {\n",
       "        vertical-align: middle;\n",
       "    }\n",
       "\n",
       "    .dataframe tbody tr th {\n",
       "        vertical-align: top;\n",
       "    }\n",
       "\n",
       "    .dataframe thead th {\n",
       "        text-align: right;\n",
       "    }\n",
       "</style>\n",
       "<table border=\"1\" class=\"dataframe\">\n",
       "  <thead>\n",
       "    <tr style=\"text-align: right;\">\n",
       "      <th></th>\n",
       "      <th>skills</th>\n",
       "    </tr>\n",
       "  </thead>\n",
       "  <tbody>\n",
       "    <tr>\n",
       "      <th>0</th>\n",
       "      <td>Website</td>\n",
       "    </tr>\n",
       "    <tr>\n",
       "      <th>1</th>\n",
       "      <td>Programming</td>\n",
       "    </tr>\n",
       "    <tr>\n",
       "      <th>2</th>\n",
       "      <td>Spreadsheets</td>\n",
       "    </tr>\n",
       "    <tr>\n",
       "      <th>3</th>\n",
       "      <td>Analysis</td>\n",
       "    </tr>\n",
       "    <tr>\n",
       "      <th>4</th>\n",
       "      <td>Jupyter</td>\n",
       "    </tr>\n",
       "    <tr>\n",
       "      <th>5</th>\n",
       "      <td>Jira</td>\n",
       "    </tr>\n",
       "    <tr>\n",
       "      <th>6</th>\n",
       "      <td>Seaborn</td>\n",
       "    </tr>\n",
       "    <tr>\n",
       "      <th>7</th>\n",
       "      <td>Pycharm</td>\n",
       "    </tr>\n",
       "    <tr>\n",
       "      <th>8</th>\n",
       "      <td>Analytics</td>\n",
       "    </tr>\n",
       "    <tr>\n",
       "      <th>9</th>\n",
       "      <td>Operations</td>\n",
       "    </tr>\n",
       "    <tr>\n",
       "      <th>10</th>\n",
       "      <td>Excel</td>\n",
       "    </tr>\n",
       "    <tr>\n",
       "      <th>11</th>\n",
       "      <td>Github</td>\n",
       "    </tr>\n",
       "    <tr>\n",
       "      <th>12</th>\n",
       "      <td>Data analysis</td>\n",
       "    </tr>\n",
       "    <tr>\n",
       "      <th>13</th>\n",
       "      <td>Engineering</td>\n",
       "    </tr>\n",
       "    <tr>\n",
       "      <th>14</th>\n",
       "      <td>Pandas</td>\n",
       "    </tr>\n",
       "    <tr>\n",
       "      <th>15</th>\n",
       "      <td>Mathematics</td>\n",
       "    </tr>\n",
       "    <tr>\n",
       "      <th>16</th>\n",
       "      <td>Email</td>\n",
       "    </tr>\n",
       "    <tr>\n",
       "      <th>17</th>\n",
       "      <td>Calculus</td>\n",
       "    </tr>\n",
       "    <tr>\n",
       "      <th>18</th>\n",
       "      <td>Modeling</td>\n",
       "    </tr>\n",
       "    <tr>\n",
       "      <th>19</th>\n",
       "      <td>R</td>\n",
       "    </tr>\n",
       "    <tr>\n",
       "      <th>20</th>\n",
       "      <td>Wordpress</td>\n",
       "    </tr>\n",
       "    <tr>\n",
       "      <th>21</th>\n",
       "      <td>System</td>\n",
       "    </tr>\n",
       "    <tr>\n",
       "      <th>22</th>\n",
       "      <td>Queries</td>\n",
       "    </tr>\n",
       "    <tr>\n",
       "      <th>23</th>\n",
       "      <td>Python</td>\n",
       "    </tr>\n",
       "    <tr>\n",
       "      <th>24</th>\n",
       "      <td>Compliance</td>\n",
       "    </tr>\n",
       "    <tr>\n",
       "      <th>25</th>\n",
       "      <td>Numpy</td>\n",
       "    </tr>\n",
       "    <tr>\n",
       "      <th>26</th>\n",
       "      <td>Researching</td>\n",
       "    </tr>\n",
       "    <tr>\n",
       "      <th>27</th>\n",
       "      <td>Anaconda</td>\n",
       "    </tr>\n",
       "    <tr>\n",
       "      <th>28</th>\n",
       "      <td>User experience</td>\n",
       "    </tr>\n",
       "    <tr>\n",
       "      <th>29</th>\n",
       "      <td>Distribution</td>\n",
       "    </tr>\n",
       "    <tr>\n",
       "      <th>30</th>\n",
       "      <td>Statistics</td>\n",
       "    </tr>\n",
       "    <tr>\n",
       "      <th>31</th>\n",
       "      <td>Technical</td>\n",
       "    </tr>\n",
       "    <tr>\n",
       "      <th>32</th>\n",
       "      <td>Updates</td>\n",
       "    </tr>\n",
       "    <tr>\n",
       "      <th>33</th>\n",
       "      <td>International</td>\n",
       "    </tr>\n",
       "    <tr>\n",
       "      <th>34</th>\n",
       "      <td>Matplotlib</td>\n",
       "    </tr>\n",
       "    <tr>\n",
       "      <th>35</th>\n",
       "      <td>Sql</td>\n",
       "    </tr>\n",
       "    <tr>\n",
       "      <th>36</th>\n",
       "      <td>Database</td>\n",
       "    </tr>\n",
       "    <tr>\n",
       "      <th>37</th>\n",
       "      <td>Tableau</td>\n",
       "    </tr>\n",
       "  </tbody>\n",
       "</table>\n",
       "</div>"
      ],
      "text/plain": [
       "             skills\n",
       "0           Website\n",
       "1       Programming\n",
       "2      Spreadsheets\n",
       "3          Analysis\n",
       "4           Jupyter\n",
       "5              Jira\n",
       "6           Seaborn\n",
       "7           Pycharm\n",
       "8         Analytics\n",
       "9        Operations\n",
       "10            Excel\n",
       "11           Github\n",
       "12    Data analysis\n",
       "13      Engineering\n",
       "14           Pandas\n",
       "15      Mathematics\n",
       "16            Email\n",
       "17         Calculus\n",
       "18         Modeling\n",
       "19                R\n",
       "20        Wordpress\n",
       "21           System\n",
       "22          Queries\n",
       "23           Python\n",
       "24       Compliance\n",
       "25            Numpy\n",
       "26      Researching\n",
       "27         Anaconda\n",
       "28  User experience\n",
       "29     Distribution\n",
       "30       Statistics\n",
       "31        Technical\n",
       "32          Updates\n",
       "33    International\n",
       "34       Matplotlib\n",
       "35              Sql\n",
       "36         Database\n",
       "37          Tableau"
      ]
     },
     "execution_count": 19,
     "metadata": {},
     "output_type": "execute_result"
    }
   ],
   "source": [
    "df"
   ]
  },
  {
   "cell_type": "code",
   "execution_count": null,
   "metadata": {},
   "outputs": [],
   "source": []
  }
 ],
 "metadata": {
  "kernelspec": {
   "display_name": "Python 3",
   "language": "python",
   "name": "python3"
  },
  "language_info": {
   "codemirror_mode": {
    "name": "ipython",
    "version": 3
   },
   "file_extension": ".py",
   "mimetype": "text/x-python",
   "name": "python",
   "nbconvert_exporter": "python",
   "pygments_lexer": "ipython3",
   "version": "3.8.5"
  }
 },
 "nbformat": 4,
 "nbformat_minor": 4
}
